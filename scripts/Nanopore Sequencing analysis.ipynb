{
 "cells": [
  {
   "cell_type": "markdown",
   "metadata": {},
   "source": [
    "# RAPID-DASH Nanopore sequencing analysis notebook"
   ]
  },
  {
   "cell_type": "code",
   "execution_count": 2,
   "metadata": {},
   "outputs": [],
   "source": [
    "# Importing the packages\n",
    "import numpy as np\n",
    "import pandas as pd\n",
    "import pickle\n",
    "import matplotlib.pyplot as plt\n",
    "import seaborn as sns\n",
    "import labutils.sequence_analysis.get_plasmid_inserts as sa #package from the Nick\n",
    "import edlib\n",
    "from collections import Counter\n",
    "# for gRNA matching\n",
    "from rapidfuzz import process \n",
    "from rapidfuzz.distance.Levenshtein import distance as lev"
   ]
  },
  {
   "cell_type": "code",
   "execution_count": 3,
   "metadata": {},
   "outputs": [],
   "source": [
    "#Loading all the custom functions\n",
    "\n",
    "#function to get the alignment positions of the insert within the array --> used to map each gRNA cassette within the array\n",
    "def get_align_pos(seq, kmer, dist):\n",
    "    '''Return the start and end index of the best alignment of kmer in seq.\n",
    "        Parameters:\n",
    "            seq (str): A sequence to search in.\n",
    "            kmer (str): A sequence to search for.\n",
    "            dist (int): Maximum distance for alignment.\n",
    "        Returns:\n",
    "            ((int, int)): Start and end indices of the first best alignment of\n",
    "            kmer in seq, or -1 if no alignment found.\n",
    "    '''\n",
    "    result = edlib.align(kmer, seq, mode=\"HW\", task=\"locations\", k=dist)\n",
    "    # print(result)\n",
    "    return result[\"locations\"] if result[\"locations\"] else -1\n",
    "\n",
    "#function to get uptstream region from the alignment position obtained above --> used to extract the gRNA sequence\n",
    "def get_upstream_region(seq, kmer, dist, upstream_len=30):\n",
    "    '''Return the upstream region of cerain length from kmer .\n",
    "        Parameters:\n",
    "            seq (str): A sequence to search in.\n",
    "            kmer (str): A sequence to search for.\n",
    "            dist (int): Maximum distance for alignment.\n",
    "            upstream_len (int): Length of the upstream region to extract.\n",
    "        Returns:\n",
    "            [str]: extracted upstream sequence of kmer\n",
    "    '''\n",
    "    result = get_align_pos(seq, kmer, dist)\n",
    "    gRNAs = []\n",
    "    if result != -1:\n",
    "        for unit in result:\n",
    "            # Get the start index of the first alignment\n",
    "            start = unit[0]\n",
    "            \n",
    "            # Calculate the upstream region\n",
    "            upstream_start = max(0, start - upstream_len)\n",
    "            upstream_end = start\n",
    "            gRNAs.append(seq[upstream_start:upstream_end])\n",
    "        return gRNAs\n",
    "    else:\n",
    "        return []\n",
    "    \n",
    "#function to extract all the kmer sequences from the array --> used to map gRNA sequences with  rapid fuzz\n",
    "def all_kmers(seq, k):\n",
    "    '''Return all kmers of length k in seq.\n",
    "    Parameters:\n",
    "        seq (str): A sequence to search in.\n",
    "        k (int): Length of the kmer.\n",
    "    Returns:\n",
    "        [str]: List of all kmers.\n",
    "    '''\n",
    "\n",
    "    return [seq[i:i + k] for i in range(len(seq) - k + 1)]\n",
    "\n",
    "#function to get the best alignment of the gRNA sequence within the array using rapid fuzz\n",
    "def kmer_matches(seq, kmer, dist, max_len = 5, limit = 100):\n",
    "    '''Return the all gRNA cassettes within the array.\n",
    "        Parameters:\n",
    "            seq (str): A sequence to search in.\n",
    "            kmer (str): A sequence to search for.\n",
    "            dist (int): Maximum distance for alignment.\n",
    "            max_len (int): Distance to match the kmer overlaps\n",
    "            limit (int): Maximum number of matches to return\n",
    "        Returns:\n",
    "            [(str, int, int)]: Mapped kmer, Alignment score and Alignment position within the array .\n",
    "    '''\n",
    "\n",
    "    # Get all kmers of the same length as the kmer to be matched\n",
    "    seqs = all_kmers(seq, len(kmer))\n",
    "    \n",
    "    # Use rapidfuzz to get the best alignment of the kmer in the sequence\n",
    "    kmer_matches = process.extract(kmer, seqs, scorer=lev, limit=limit, score_cutoff=dist)\n",
    "    \n",
    "    # Sort the matches by score\n",
    "    data_sorted = sorted(kmer_matches, key=lambda x: x[2])\n",
    "    \n",
    "    filtered_data_by_score = []\n",
    "\n",
    "    for entry in data_sorted:\n",
    "        # Get the sequence, score, and index of the match\n",
    "        seq, score, index = entry\n",
    "\n",
    "        # Check if the index is within `max_len` of an existing entry in filtered_data_by_score\n",
    "        overlapping_entries = [\n",
    "            existing for existing in filtered_data_by_score if abs(index - existing[2]) <= max_len\n",
    "        ]\n",
    "\n",
    "        if overlapping_entries:\n",
    "            # If overlapping entries exist, only keep the one with the lowest score\n",
    "            min_score_entry = min(overlapping_entries + [entry], key=lambda x: x[1])\n",
    "            # Replace the overlapping entry with the new one if it's better\n",
    "            filtered_data_by_score = [\n",
    "                e for e in filtered_data_by_score if abs(index - e[2]) > max_len\n",
    "            ]\n",
    "            filtered_data_by_score.append(min_score_entry)\n",
    "        else:\n",
    "            filtered_data_by_score.append(entry)\n",
    "    \n",
    "    # Return the filtered list of matches\n",
    "    return filtered_data_by_score\n",
    "\n",
    "#function to extract the downstream region from the alignment position obtained above --> used to extract the gRNA sequence\n",
    "def get_gRNA_seq(seq, ind, kmer_len, length = 30):\n",
    "    '''Return downstream sequences of certain length within the array.\n",
    "        Parameters:\n",
    "            seq (str): A sequence to serach in.\n",
    "            ind (int): index in the seq to search.\n",
    "            kmer_len (int): length of the kmer used to extract the gRNA units\n",
    "            length (int): length of the downstream sequence to extract\n",
    "        Returns:\n",
    "            (str): extracted downstream sequences from seq\n",
    "    '''\n",
    "    i = ind+kmer_len #map the start of downstream region to extract the gRNA sequence\n",
    "    gRNA = seq[i:i+length]\n",
    "    return gRNA"
   ]
  },
  {
   "cell_type": "code",
   "execution_count": 4,
   "metadata": {},
   "outputs": [
    {
     "ename": "FileNotFoundError",
     "evalue": "[Errno 2] No such file or directory: ''",
     "output_type": "error",
     "traceback": [
      "\u001b[31m---------------------------------------------------------------------------\u001b[39m",
      "\u001b[31mFileNotFoundError\u001b[39m                         Traceback (most recent call last)",
      "\u001b[36mCell\u001b[39m\u001b[36m \u001b[39m\u001b[32mIn[4]\u001b[39m\u001b[32m, line 7\u001b[39m\n\u001b[32m      4\u001b[39m pkl_file = \u001b[33m\"\u001b[39m\u001b[33m\"\u001b[39m  \n\u001b[32m      6\u001b[39m \u001b[38;5;66;03m# Load the .pkl file\u001b[39;00m\n\u001b[32m----> \u001b[39m\u001b[32m7\u001b[39m \u001b[38;5;28;01mwith\u001b[39;00m \u001b[38;5;28;43mopen\u001b[39;49m\u001b[43m(\u001b[49m\u001b[43mpkl_file\u001b[49m\u001b[43m,\u001b[49m\u001b[43m \u001b[49m\u001b[33;43m\"\u001b[39;49m\u001b[33;43mrb\u001b[39;49m\u001b[33;43m\"\u001b[39;49m\u001b[43m)\u001b[49m \u001b[38;5;28;01mas\u001b[39;00m file:\n\u001b[32m      8\u001b[39m     data = pickle.load(file)\n",
      "\u001b[36mFile \u001b[39m\u001b[32mc:\\Users\\Lab\\miniconda3\\envs\\nanopore_analysis\\Lib\\site-packages\\IPython\\core\\interactiveshell.py:325\u001b[39m, in \u001b[36m_modified_open\u001b[39m\u001b[34m(file, *args, **kwargs)\u001b[39m\n\u001b[32m    318\u001b[39m \u001b[38;5;28;01mif\u001b[39;00m file \u001b[38;5;129;01min\u001b[39;00m {\u001b[32m0\u001b[39m, \u001b[32m1\u001b[39m, \u001b[32m2\u001b[39m}:\n\u001b[32m    319\u001b[39m     \u001b[38;5;28;01mraise\u001b[39;00m \u001b[38;5;167;01mValueError\u001b[39;00m(\n\u001b[32m    320\u001b[39m         \u001b[33mf\u001b[39m\u001b[33m\"\u001b[39m\u001b[33mIPython won\u001b[39m\u001b[33m'\u001b[39m\u001b[33mt let you open fd=\u001b[39m\u001b[38;5;132;01m{\u001b[39;00mfile\u001b[38;5;132;01m}\u001b[39;00m\u001b[33m by default \u001b[39m\u001b[33m\"\u001b[39m\n\u001b[32m    321\u001b[39m         \u001b[33m\"\u001b[39m\u001b[33mas it is likely to crash IPython. If you know what you are doing, \u001b[39m\u001b[33m\"\u001b[39m\n\u001b[32m    322\u001b[39m         \u001b[33m\"\u001b[39m\u001b[33myou can use builtins\u001b[39m\u001b[33m'\u001b[39m\u001b[33m open.\u001b[39m\u001b[33m\"\u001b[39m\n\u001b[32m    323\u001b[39m     )\n\u001b[32m--> \u001b[39m\u001b[32m325\u001b[39m \u001b[38;5;28;01mreturn\u001b[39;00m \u001b[43mio_open\u001b[49m\u001b[43m(\u001b[49m\u001b[43mfile\u001b[49m\u001b[43m,\u001b[49m\u001b[43m \u001b[49m\u001b[43m*\u001b[49m\u001b[43margs\u001b[49m\u001b[43m,\u001b[49m\u001b[43m \u001b[49m\u001b[43m*\u001b[49m\u001b[43m*\u001b[49m\u001b[43mkwargs\u001b[49m\u001b[43m)\u001b[49m\n",
      "\u001b[31mFileNotFoundError\u001b[39m: [Errno 2] No such file or directory: ''"
     ]
    }
   ],
   "source": [
    "#Loading .pkl file containing the array sequences\n",
    "\n",
    "# Path to your .pkl file\n",
    "pkl_file = \"\"  \n",
    "\n",
    "# Load the .pkl file\n",
    "with open(pkl_file, \"rb\") as file:\n",
    "    data = pickle.load(file)"
   ]
  },
  {
   "cell_type": "code",
   "execution_count": null,
   "metadata": {},
   "outputs": [],
   "source": [
    "#Extracting the sequences from the .pkl file\n",
    "sequences = []\n",
    "for record in data:\n",
    "    s = record[1][0]\n",
    "    if s:\n",
    "        sequences.append(s)"
   ]
  },
  {
   "cell_type": "code",
   "execution_count": null,
   "metadata": {},
   "outputs": [
    {
     "data": {
      "image/png": "[encoded data removed]",
      "text/plain": [
       "<Figure size 640x480 with 1 Axes>"
      ]
     },
     "metadata": {},
     "output_type": "display_data"
    }
   ],
   "source": [
    "# Calculate the length of each sequence\n",
    "seq_len = [len(seq) for seq in sequences]\n",
    "\n",
    "# Create the histogram using seaborn\n",
    "sns.histplot(seq_len, bins=40, kde=False, edgecolor='black')\n",
    "plt.xlabel(\"Sequence Length\")\n",
    "plt.ylabel(\"Frequency\")\n",
    "#plt.xlim(0, 8500)\n",
    "plt.grid(axis='y', linestyle='--', alpha=0.7)\n",
    "# Show the plot\n",
    "plt.show()"
   ]
  },
  {
   "cell_type": "code",
   "execution_count": null,
   "metadata": {},
   "outputs": [
    {
     "data": {
      "text/plain": [
       "Counter({10: 138, 9: 12, 8: 5, 7: 3, 5: 2, 4: 2, 3: 1, 6: 1, 13: 1})"
      ]
     },
     "execution_count": 476,
     "metadata": {},
     "output_type": "execute_result"
    }
   ],
   "source": [
    "\n",
    "gRNAunit_list = []\n",
    "kmer = \"tcgatttcttggctttatatatcttGTGGAAAGGACGAAACACCg\".upper() #sequence preceding the gRNA spacers to search in the array\n",
    "for seq in sequences:\n",
    "    gRNAunit_list.append(kmer_matches(seq, kmer, 12, max_len =15, limit= 200)) #Returns all the possible matches of the scaffold sequence in the gRNAunit_list\n",
    "\n",
    "#Counting how many gRNA cassettes are present in the arrays\n",
    "no_of_units = []\n",
    "for i, record in enumerate(gRNAunit_list):\n",
    "    # print(i)\n",
    "    no_of_units.append(len(record))\n",
    "\n",
    "Counter(no_of_units) #Counting the number of gRNA cassettes in the arrays"
   ]
  },
  {
   "cell_type": "code",
   "execution_count": null,
   "metadata": {},
   "outputs": [],
   "source": [
    "#Extracting all the gRNA cassettes from a given array sequence\n",
    "gRNAunits_set = []\n",
    "kmer_len = len(kmer) #length of the scaffold sequence\n",
    "for s, read in enumerate(sequences):\n",
    "    gRNAunits = []\n",
    "    for unit in gRNAunit_list[s]:\n",
    "        gRNA = get_gRNA_seq(read, unit[2], kmer_len, length = 20) #Extracting the downstream sequence from the alignment position\n",
    "        gRNAunits.append(gRNA)\n",
    "    gRNAunits_set.append(gRNAunits)"
   ]
  },
  {
   "cell_type": "code",
   "execution_count": null,
   "metadata": {},
   "outputs": [],
   "source": [
    "gRNA_list = [\"GGAATCCCTTCTGCAGCACC\", \"GAGTCCGAGCAGAAGAAGAA\", \"TTTATCACAGGCTCCAGGAA\", \"GGCCCAGACTGAGCACGTGA\", \n",
    "             \"ACTCACGCTGGATAGCCTCC\", \"GTCATCTTAGTCATTACCTG\", \"GGCACTGCGGCTGGAGGTGG\", \"CACCTACCTAAGAACCATCC\", \n",
    "             \"TTCGTATCTGTAAAACCAAG\", \"CACGGTCACCCTGACACGCT\"]\n",
    "\n",
    "gRNA_map =[]\n",
    "for ind, set in enumerate(gRNAunits_set):\n",
    "    if len(set) == 10:\n",
    "        unit_map = []\n",
    "        for sample in set:\n",
    "            matched = False\n",
    "            for j, gRNA in enumerate(gRNA_list):\n",
    "                aligned = edlib.align(gRNA, sample, mode=\"HW\", task=\"locations\", k=4)\n",
    "                if aligned[\"locations\"]:\n",
    "                    unit_map.append(j+1)  # Append the index of the matching gRNA\n",
    "                    matched = True\n",
    "                    break\n",
    "            if not matched:\n",
    "                unit_map.append(0)\n",
    "        gRNA_map.append(unit_map)"
   ]
  },
  {
   "cell_type": "code",
   "execution_count": null,
   "metadata": {},
   "outputs": [
    {
     "name": "stdout",
     "output_type": "stream",
     "text": [
      "The main list contains repeated sublists:\n",
      "Repeated sublist: [1, 2, 3, 0, 5, 6, 10, 8, 9, 0], Count: 5\n",
      "Repeated sublist: [1, 2, 3, 4, 5, 6, 10, 8, 9, 0], Count: 104\n",
      "Repeated sublist: [1, 2, 3, 4, 5, 6, 0, 8, 9, 0], Count: 4\n",
      "Repeated sublist: [1, 2, 0, 4, 5, 6, 10, 8, 9, 0], Count: 2\n",
      "Repeated sublist: [1, 2, 3, 4, 5, 6, 10, 0, 9, 0], Count: 2\n",
      "Repeated sublist: [1, 0, 3, 4, 5, 6, 10, 8, 9, 0], Count: 3\n",
      "Repeated sublist: [0, 2, 3, 4, 5, 6, 10, 8, 9, 0], Count: 3\n",
      "Repeated sublist: [1, 2, 3, 4, 5, 0, 10, 8, 9, 0], Count: 2\n",
      "Repeated sublist: [1, 2, 3, 4, 5, 6, 10, 8, 0, 0], Count: 2\n"
     ]
    }
   ],
   "source": [
    "# Convert sublists to tuples for comparison\n",
    "sublists_as_tuples = list([tuple(row) for row in gRNA_map])\n",
    "\n",
    "# Find duplicates by comparing the length of the set and the original list\n",
    "#has_duplicates = len(sublists_as_tuples) != len(set(sublists_as_tuples))\n",
    "\n",
    "# Find and display the repeated sublists\n",
    "from collections import Counter\n",
    "\n",
    "# Count occurrences of each sublist\n",
    "sublist_counts = Counter(sublists_as_tuples)\n",
    "\n",
    "# Extract repeated sublists\n",
    "repeated_sublists = [sublist for sublist, count in sublist_counts.items() if count > 1]\n",
    "\n",
    "if len(repeated_sublists) != 0:\n",
    "    print(f\"The main list contains repeated sublists:\")\n",
    "    for sublist in repeated_sublists:\n",
    "        print(f\"Repeated sublist: {list(sublist)}, Count: {sublist_counts[sublist]}\")\n",
    "else:\n",
    "    print(\"No repeated sublists found in the main list.\")"
   ]
  },
  {
   "cell_type": "markdown",
   "metadata": {},
   "source": [
    "# Calculating the percentage of correct assemblies from nanopore reads\n",
    "\n",
    "This can be estimated by calulating the number of reads of length that matches with 10 gRNA arrays over all the reads obtained from bulk plasmid sequencing. This can be tricky because of the indel errors in nanopore reads. A solution is use of range of read length for each gRNA array category (1 to 10). The followings equences were used in get_plasmid_inserts to extract the gRNA array sequence:\n",
    "\n",
    "UPSTREAM: **gcgttaacgctagcatggatgttttcccagtcacgacgttgtaaaacgacggccagtcttaagcgtctcatggcctgaccccggaccaagtggtggggta** \n",
    "\n",
    "DOWNSTREAM: **tggtcatagctgtttcctcgtagcaagcaagcgctcgaaacggtgcagcggctgttgccggtgctgtgccaggaccatggcctgaccccggaccaagtgg**\n",
    "\n",
    "The length of the sequence between these flanks for arrays of differen gRNA assemblies is as follows:\n",
    "\n",
    "| Number of gRNAs | Expected length | Lower range | Upper range |\n",
    "|-----------------|-----------------|-------------|-------------|\n",
    "| 10              | 3917            | 3847        | 3987        |\n",
    "| 9               | 3523            | 3453        | 3593        |\n",
    "| 8               | 3129            | 3059        | 3199        |\n",
    "| 7               | 2735            | 2665        | 2805        |\n",
    "| 6               | 2341            | 2271        | 2411        |\n",
    "| 5               | 1947            | 1877        | 2017        |\n",
    "| 4               | 1553            | 1483        | 1623        |\n",
    "| 3               | 1159            | 1089        | 1229        |\n",
    "| 2               | 765             | 695         | 835         |\n",
    "| 1               | 371             | 301         | 441         |\n",
    "| 0               | 0               | -           | 70          |\n",
    "| >10             | >4311           | 4241        | -           |\n",
    "\n",
    "\n",
    "Using ±70 bp to account for nanopore errors while calculating the number of gRNA units within the arrays. 70 bp was chosen because one individual gRNA unit is 371 bp and the buffering sequence length cannot exceed this and it looks like majority of the gRNA array lengths fall within these ranges."
   ]
  },
  {
   "cell_type": "code",
   "execution_count": null,
   "metadata": {},
   "outputs": [],
   "source": [
    "#categorize the reads based on the lengths corresponding to the number of gRNA cassettes present in the array\n",
    "sequences = []\n",
    "for record in data:\n",
    "    s = record[1][0]\n",
    "    sequences.append(s) #extracting all the sequences including the empty ones (no inserts)\n",
    "\n",
    "seq_len = [len(seq) for seq in sequences] #calculate the length of each sequence"
   ]
  },
  {
   "cell_type": "code",
   "execution_count": null,
   "metadata": {},
   "outputs": [],
   "source": [
    "def categorize_sequences(seq_lengths):\n",
    "    \"\"\"\n",
    "    Takes a list of sequence lengths (integers) and returns a dictionary\n",
    "    counting how many sequences fall into each gRNA bin, based on the \n",
    "    lower/upper ranges you provided.\n",
    "    \"\"\"\n",
    "\n",
    "    # Define the bins: (gRNA_label, lower_bound, upper_bound).\n",
    "    # Use None if there is no bound on that side (but we have exact ranges from your table).\n",
    "    bins = [\n",
    "        (0, 0, 70),\n",
    "        (1, 301, 441),\n",
    "        (2, 695, 835),\n",
    "        (3, 1089, 1229),\n",
    "        (4, 1483, 1623),\n",
    "        (5, 1877, 2017),\n",
    "        (6, 2271, 2411),\n",
    "        (7, 2665, 2805),\n",
    "        (8, 3059, 3199),\n",
    "        (9, 3453, 3593),\n",
    "        (10, 3847, 3987),\n",
    "        ('>10', 4241, float('inf'))  # For sequence lengths >= 4050\n",
    "    ]\n",
    "\n",
    "    # Initialize a dictionary to count occurrences in each bin\n",
    "    bin_counts = {b[0]: 0 for b in bins}\n",
    "    bin_counts.setdefault('out_of_range', 0)\n",
    "    out_of_range = []\n",
    "\n",
    "    for i, length in enumerate(seq_lengths):\n",
    "        # Check each bin to see where this length falls\n",
    "        placed = False\n",
    "        for gRNA_label, low, high in bins:\n",
    "            if low <= length <= high:\n",
    "                bin_counts[gRNA_label] += 1\n",
    "                placed = True\n",
    "                break\n",
    "        \n",
    "        if not placed:\n",
    "            bin_counts['out_of_range'] += 1\n",
    "            out_of_range.append(i)\n",
    "\n",
    "    return bin_counts, out_of_range\n",
    "\n"
   ]
  },
  {
   "cell_type": "code",
   "execution_count": null,
   "metadata": {},
   "outputs": [
    {
     "data": {
      "text/plain": [
       "167"
      ]
     },
     "execution_count": 482,
     "metadata": {},
     "output_type": "execute_result"
    }
   ],
   "source": [
    "len(seq_len)"
   ]
  },
  {
   "cell_type": "code",
   "execution_count": null,
   "metadata": {},
   "outputs": [
    {
     "name": "stdout",
     "output_type": "stream",
     "text": [
      "{0: 2, 1: 0, 2: 0, 3: 0, 4: 1, 5: 1, 6: 1, 7: 3, 8: 3, 9: 2, 10: 147, '>10': 1, 'out_of_range': 6}\n"
     ]
    }
   ],
   "source": [
    "counts = categorize_sequences(seq_len)[0]\n",
    "print(counts)"
   ]
  },
  {
   "cell_type": "code",
   "execution_count": null,
   "metadata": {},
   "outputs": [
    {
     "name": "stdout",
     "output_type": "stream",
     "text": [
      "Bin counts: {0: 2, 1: 0, 2: 0, 3: 0, 4: 1, 5: 1, 6: 1, 7: 3, 8: 3, 9: 2, 10: 147, '>10': 1, 'out_of_range': 6}\n",
      "Total sequences: 167\n",
      "Count in bin 10: 147\n",
      "Percentage in bin 10: 88.02%\n"
     ]
    }
   ],
   "source": [
    "total_sequences = sum(counts.values())\n",
    "count_10 = counts[10]\n",
    "percentage_10 = (count_10 / total_sequences) * 100 if total_sequences > 0 else 0\n",
    "\n",
    "print(\"Bin counts:\", counts)\n",
    "print(f\"Total sequences: {total_sequences}\")\n",
    "print(f\"Count in bin 10: {count_10}\")\n",
    "print(f\"Percentage in bin 10: {percentage_10:.2f}%\")"
   ]
  },
  {
   "cell_type": "code",
   "execution_count": null,
   "metadata": {},
   "outputs": [
    {
     "data": {
      "image/png": "[encoded data removed]",
      "text/plain": [
       "<Figure size 1000x600 with 1 Axes>"
      ]
     },
     "metadata": {},
     "output_type": "display_data"
    }
   ],
   "source": [
    "bin_labels = [str(k) for k in counts.keys() if k != 'unassigned']\n",
    "bin_values = [counts[k] for k in counts.keys() if k != 'unassigned']\n",
    "\n",
    "# Create a bar plot\n",
    "plt.figure(figsize=(10, 6))\n",
    "plt.bar(bin_labels[0:12], bin_values[0:12], color='#97B0B6')\n",
    "plt.xlabel('gRNA Bin', fontsize=25)\n",
    "plt.ylabel('Count', fontsize=25)\n",
    "plt.title('G10 pooled', fontsize=25)\n",
    "plt.xticks(fontsize=25)\n",
    "plt.yticks(fontsize=25)\n",
    "# plt.savefig(\"G10_pooled.svg\", transparent=True)\n",
    "plt.show()"
   ]
  },
  {
   "cell_type": "code",
   "execution_count": null,
   "metadata": {},
   "outputs": [
    {
     "data": {
      "text/plain": [
       "81.25666666666666"
      ]
     },
     "execution_count": 486,
     "metadata": {},
     "output_type": "execute_result"
    }
   ],
   "source": [
    "#Percentage of sequences with 10 gRNA cassettes in the array (for Assembly 1,2, and 3)\n",
    "percentages = [74.21,81.54,88.02]\n",
    "\n",
    "#Average percentage of sequences with 10 gRNA cassettes in the array\n",
    "average_percentage = sum(percentages)/len(percentages)  \n",
    "average_percentage"
   ]
  }
 ],
 "metadata": {
  "kernelspec": {
   "display_name": "nanopore_analysis",
   "language": "python",
   "name": "python3"
  },
  "language_info": {
   "codemirror_mode": {
    "name": "ipython",
    "version": 3
   },
   "file_extension": ".py",
   "mimetype": "text/x-python",
   "name": "python",
   "nbconvert_exporter": "python",
   "pygments_lexer": "ipython3",
   "version": "3.11.11"
  }
 },
 "nbformat": 4,
 "nbformat_minor": 2
}
